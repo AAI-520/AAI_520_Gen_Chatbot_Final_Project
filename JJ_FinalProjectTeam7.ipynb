{
 "cells": [
  {
   "cell_type": "code",
   "execution_count": 34,
   "id": "5d599012-288d-4223-b964-3ba8b07e9a55",
   "metadata": {
    "tags": []
   },
   "outputs": [],
   "source": [
    "# libraries\n",
    "\n",
    "import re\n",
    "import json\n",
    "import nltk\n",
    "import spacy\n",
    "import numpy as np\n",
    "import pandas as pd\n",
    "import matplotlib.pyplot as plt\n",
    "from word2number import w2n\n",
    "from langdetect import detect\n",
    "from collections import Counter\n",
    "from nltk.corpus import stopwords\n",
    "from nltk.stem import PorterStemmer\n",
    "from nltk.tokenize import word_tokenize\n",
    "from langdetect import detect, DetectorFactory\n",
    "from spacy.lang.en.stop_words import STOP_WORDS\n"
   ]
  },
  {
   "cell_type": "code",
   "execution_count": 2,
   "id": "ab309fa3-4687-476b-84bf-1c1e63630ea5",
   "metadata": {
    "tags": []
   },
   "outputs": [
    {
     "name": "stderr",
     "output_type": "stream",
     "text": [
      "[nltk_data] Downloading package punkt to /Users/fedijay/nltk_data...\n",
      "[nltk_data]   Package punkt is already up-to-date!\n",
      "[nltk_data] Downloading package stopwords to\n",
      "[nltk_data]     /Users/fedijay/nltk_data...\n",
      "[nltk_data]   Package stopwords is already up-to-date!\n"
     ]
    },
    {
     "data": {
      "text/plain": [
       "True"
      ]
     },
     "execution_count": 2,
     "metadata": {},
     "output_type": "execute_result"
    }
   ],
   "source": [
    "# loading models\n",
    "nltk.download('punkt')\n",
    "nltk.download('stopwords')"
   ]
  },
  {
   "cell_type": "code",
   "execution_count": 3,
   "id": "ffb33360-75ba-47d2-9561-519332feecbe",
   "metadata": {
    "tags": []
   },
   "outputs": [],
   "source": [
    "# Load spaCy model\n",
    "nlp = spacy.load('en_core_web_sm')"
   ]
  },
  {
   "cell_type": "code",
   "execution_count": 4,
   "id": "013872e1-6d57-4157-a050-a25e04c0a9fa",
   "metadata": {
    "tags": []
   },
   "outputs": [],
   "source": [
    "# Loading file\n",
    "df = pd.read_json('StanfordQuestionAnsweringDataset/train-v1.1.json')"
   ]
  },
  {
   "cell_type": "code",
   "execution_count": 5,
   "id": "cb7d4ce0-8b5d-4a4b-b5e6-4bec511770a6",
   "metadata": {
    "tags": []
   },
   "outputs": [
    {
     "name": "stdout",
     "output_type": "stream",
     "text": [
      "Context: Architecturally, the school has a Catholic character. Atop the Main Building's gold dome is a golden statue of the Virgin Mary. Immediately in front of the Main Building and facing it, is a copper statue of Christ with arms upraised with the legend \"Venite Ad Me Omnes\". Next to the Main Building is the Basilica of the Sacred Heart. Immediately behind the basilica is the Grotto, a Marian place of prayer and reflection. It is a replica of the grotto at Lourdes, France where the Virgin Mary reputedly appeared to Saint Bernadette Soubirous in 1858. At the end of the main drive (and in a direct line that connects through 3 statues and the Gold Dome), is a simple, modern stone statue of Mary.\n",
      "Question: To whom did the Virgin Mary allegedly appear in 1858 in Lourdes France?\n",
      "Answer: Saint Bernadette Soubirous\n",
      "-----\n",
      "Question: What is in front of the Notre Dame Main Building?\n",
      "Answer: a copper statue of Christ\n",
      "-----\n",
      "Question: The Basilica of the Sacred heart at Notre Dame is beside to which structure?\n",
      "Answer: the Main Building\n",
      "-----\n",
      "Question: What is the Grotto at Notre Dame?\n",
      "Answer: a Marian place of prayer and reflection\n",
      "-----\n",
      "Question: What sits on top of the Main Building at Notre Dame?\n",
      "Answer: a golden statue of the Virgin Mary\n",
      "-----\n"
     ]
    }
   ],
   "source": [
    "# Function to clean and process each paragraph\n",
    "def prepare_for_chatbot(paragraph):\n",
    "    # Extract context and qas\n",
    "    context = paragraph['context']\n",
    "    qas = paragraph['qas']\n",
    "\n",
    "    # Extract questions and answers\n",
    "    questions = [item['question'] for item in qas]\n",
    "    answers = [item['answers'][0]['text'] for item in qas]\n",
    "\n",
    "    # Clean questions and answers\n",
    "    cleaned_questions = [re.sub(r\"[^a-zA-Z0-9?.!,¿]+\", \" \", question).strip() for question in questions]\n",
    "    cleaned_answers = [re.sub(r\"[^a-zA-Z0-9?.!,¿]+\", \" \", answer).strip() for answer in answers]\n",
    "\n",
    "    # Pair them together\n",
    "    qa_pairs = list(zip(cleaned_questions, cleaned_answers))\n",
    "    \n",
    "    return {\n",
    "        'context': context,\n",
    "        'qa_pairs': qa_pairs\n",
    "    }\n",
    "\n",
    "# Process each article and paragraph\n",
    "all_data = []\n",
    "for article in df['data']:\n",
    "    for paragraph in article['paragraphs']:\n",
    "        all_data.append(prepare_for_chatbot(paragraph))\n",
    "\n",
    "# For demonstration, printing the context and QA pairs of the first paragraph\n",
    "print(\"Context:\", all_data[0]['context'])\n",
    "for q, a in all_data[0]['qa_pairs']:\n",
    "    print(\"Question:\", q)\n",
    "    print(\"Answer:\", a)\n",
    "    print(\"-----\")"
   ]
  },
  {
   "cell_type": "code",
   "execution_count": 6,
   "id": "09a02d2a-c65c-450e-987c-39cccfcea9d6",
   "metadata": {
    "tags": []
   },
   "outputs": [
    {
     "name": "stdout",
     "output_type": "stream",
     "text": [
      "Context: Architecturally, the school has a Catholic character. Atop the Main Building's gold dome is a golden statue of the Virgin Mary. Immediately in front of the Main Building and facing it, is a copper statue of Christ with arms upraised with the legend \"Venite Ad Me Omnes\". Next to the Main Building is the Basilica of the Sacred Heart. Immediately behind the basilica is the Grotto, a Marian place of prayer and reflection. It is a replica of the grotto at Lourdes, France where the Virgin Mary reputedly appeared to Saint Bernadette Soubirous in 1858. At the end of the main drive (and in a direct line that connects through 3 statues and the Gold Dome), is a simple, modern stone statue of Mary.\n",
      "Question: To whom did the Virgin Mary allegedly appear in 1858 in Lourdes France?\n",
      "Answer: Saint Bernadette Soubirous\n",
      "-----\n",
      "Question: What is in front of the Notre Dame Main Building?\n",
      "Answer: a copper statue of Christ\n",
      "-----\n",
      "Question: The Basilica of the Sacred heart at Notre Dame is beside to which structure?\n",
      "Answer: the Main Building\n",
      "-----\n",
      "Question: What is the Grotto at Notre Dame?\n",
      "Answer: a Marian place of prayer and reflection\n",
      "-----\n",
      "Question: What sits on top of the Main Building at Notre Dame?\n",
      "Answer: a golden statue of the Virgin Mary\n",
      "-----\n",
      "==========\n",
      "Context: As at most other universities, Notre Dame's students run a number of news media outlets. The nine student-run outlets include three newspapers, both a radio and television station, and several magazines and journals. Begun as a one-page journal in September 1876, the Scholastic magazine is issued twice monthly and claims to be the oldest continuous collegiate publication in the United States. The other magazine, The Juggler, is released twice a year and focuses on student literature and artwork. The Dome yearbook is published annually. The newspapers have varying publication interests, with The Observer published daily and mainly reporting university and other news, and staffed by students from both Notre Dame and Saint Mary's College. Unlike Scholastic and The Dome, The Observer is an independent publication and does not have a faculty advisor or any editorial oversight from the University. In 1987, when some students believed that The Observer began to show a conservative bias, a liberal newspaper, Common Sense was published. Likewise, in 2003, when other students believed that the paper showed a liberal bias, the conservative paper Irish Rover went into production. Neither paper is published as often as The Observer; however, all three are distributed to all students. Finally, in Spring 2008 an undergraduate journal for political science research, Beyond Politics, made its debut.\n",
      "Question: When did the Scholastic Magazine of Notre dame begin publishing?\n",
      "Answer: September 1876\n",
      "-----\n",
      "Question: How often is Notre Dame s the Juggler published?\n",
      "Answer: twice\n",
      "-----\n",
      "Question: What is the daily student paper at Notre Dame called?\n",
      "Answer: The Observer\n",
      "-----\n",
      "Question: How many student news papers are found at Notre Dame?\n",
      "Answer: three\n",
      "-----\n",
      "Question: In what year did the student paper Common Sense begin publication at Notre Dame?\n",
      "Answer: 1987\n",
      "-----\n",
      "==========\n",
      "Context: The university is the major seat of the Congregation of Holy Cross (albeit not its official headquarters, which are in Rome). Its main seminary, Moreau Seminary, is located on the campus across St. Joseph lake from the Main Building. Old College, the oldest building on campus and located near the shore of St. Mary lake, houses undergraduate seminarians. Retired priests and brothers reside in Fatima House (a former retreat center), Holy Cross House, as well as Columba Hall near the Grotto. The university through the Moreau Seminary has ties to theologian Frederick Buechner. While not Catholic, Buechner has praised writers from Notre Dame and Moreau Seminary created a Buechner Prize for Preaching.\n",
      "Question: Where is the headquarters of the Congregation of the Holy Cross?\n",
      "Answer: Rome\n",
      "-----\n",
      "Question: What is the primary seminary of the Congregation of the Holy Cross?\n",
      "Answer: Moreau Seminary\n",
      "-----\n",
      "Question: What is the oldest structure at Notre Dame?\n",
      "Answer: Old College\n",
      "-----\n",
      "Question: What individuals live at Fatima House at Notre Dame?\n",
      "Answer: Retired priests and brothers\n",
      "-----\n",
      "Question: Which prize did Frederick Buechner create?\n",
      "Answer: Buechner Prize for Preaching\n",
      "-----\n",
      "==========\n",
      "Context: The College of Engineering was established in 1920, however, early courses in civil and mechanical engineering were a part of the College of Science since the 1870s. Today the college, housed in the Fitzpatrick, Cushing, and Stinson-Remick Halls of Engineering, includes five departments of study – aerospace and mechanical engineering, chemical and biomolecular engineering, civil engineering and geological sciences, computer science and engineering, and electrical engineering – with eight B.S. degrees offered. Additionally, the college offers five-year dual degree programs with the Colleges of Arts and Letters and of Business awarding additional B.A. and Master of Business Administration (MBA) degrees, respectively.\n",
      "Question: How many BS level degrees are offered in the College of Engineering at Notre Dame?\n",
      "Answer: eight\n",
      "-----\n",
      "Question: In what year was the College of Engineering at Notre Dame formed?\n",
      "Answer: 1920\n",
      "-----\n",
      "Question: Before the creation of the College of Engineering similar studies were carried out at which Notre Dame college?\n",
      "Answer: the College of Science\n",
      "-----\n",
      "Question: How many departments are within the Stinson Remick Hall of Engineering?\n",
      "Answer: five\n",
      "-----\n",
      "Question: The College of Science began to offer civil engineering courses beginning at what time at Notre Dame?\n",
      "Answer: the 1870s\n",
      "-----\n",
      "==========\n",
      "Context: All of Notre Dame's undergraduate students are a part of one of the five undergraduate colleges at the school or are in the First Year of Studies program. The First Year of Studies program was established in 1962 to guide incoming freshmen in their first year at the school before they have declared a major. Each student is given an academic advisor from the program who helps them to choose classes that give them exposure to any major in which they are interested. The program also includes a Learning Resource Center which provides time management, collaborative learning, and subject tutoring. This program has been recognized previously, by U.S. News & World Report, as outstanding.\n",
      "Question: What entity provides help with the management of time for new students at Notre Dame?\n",
      "Answer: Learning Resource Center\n",
      "-----\n",
      "Question: How many colleges for undergraduates are at Notre Dame?\n",
      "Answer: five\n",
      "-----\n",
      "Question: What was created at Notre Dame in 1962 to assist first year students?\n",
      "Answer: The First Year of Studies program\n",
      "-----\n",
      "Question: Which organization declared the First Year of Studies program at Notre Dame outstanding?\n",
      "Answer: U.S. News World Report\n",
      "-----\n",
      "==========\n"
     ]
    }
   ],
   "source": [
    "# Demonstrate for the first 5 contexts\n",
    "for data_entry in all_data[:5]:\n",
    "    print(\"Context:\", data_entry['context'])\n",
    "    for q, a in data_entry['qa_pairs']:\n",
    "        print(\"Question:\", q)\n",
    "        print(\"Answer:\", a)\n",
    "        print(\"-----\")\n",
    "    print(\"==========\")\n",
    "    # print(\"Total number of processed contexts:\", len(all_data))   if needed"
   ]
  },
  {
   "cell_type": "code",
   "execution_count": 9,
   "id": "7f7ac68e-0370-4ce4-9e07-fc8ab1422572",
   "metadata": {
    "tags": []
   },
   "outputs": [
    {
     "name": "stdout",
     "output_type": "stream",
     "text": [
      "Original Text: Architecturally, the school has a Catholic character. Atop the Main Building's gold dome is a golden statue of the Virgin Mary. Immediately in front of the Main Building and facing it, is a copper statue of Christ with arms upraised with the legend \"Venite Ad Me Omnes\". Next to the Main Building is the Basilica of the Sacred Heart. Immediately behind the basilica is the Grotto, a Marian place of prayer and reflection. It is a replica of the grotto at Lourdes, France where the Virgin Mary reputedly appeared to Saint Bernadette Soubirous in 1858. At the end of the main drive (and in a direct line that connects through 3 statues and the Gold Dome), is a simple, modern stone statue of Mary.\n",
      "Language Detected: en\n",
      "\n",
      "Normalized Text: architecturally , the school has a catholic character . atop the main building 's gold dome is a golden statue of the virgin mary . immediately in front of the main building and facing it , is a copper statue of christ with arms upraised with the legend `` venite ad me omnes '' . next to the main building is the basilica of the sacred heart . immediately behind the basilica is the grotto , a marian place of prayer and reflection . it is a replica of the grotto at lourdes , france where the virgin mary reputedly appeared to saint bernadette soubirous in 1858. at the end of the main drive ( and in a direct line that connects through 3 statues and the gold dome ) , is a simple , modern stone statue of mary .\n",
      "\n",
      "Text after Stopword Removal: architecturally , school catholic character . atop main building 's gold dome golden statue virgin mary . immediately front main building facing , copper statue christ arms upraised legend `` venite ad omnes `` . next main building basilica sacred heart . immediately behind basilica grotto , marian place prayer reflection . replica grotto lourdes , france virgin mary reputedly appeared saint bernadette soubirous 1858. end main drive ( direct line connects 3 statues gold dome ) , simple , modern stone statue mary .\n",
      "\n",
      "Text after Stemming: architectur , school cathol charact . atop main build 's gold dome golden statu virgin mari . immedi front main build face , copper statu christ arm uprais legend `` venit ad omn `` . next main build basilica sacr heart . immedi behind basilica grotto , marian place prayer reflect . replica grotto lourd , franc virgin mari reputedli appear saint bernadett soubir 1858. end main drive ( direct line connect 3 statu gold dome ) , simpl , modern stone statu mari .\n",
      "\n",
      "Text after Lemmatization: architectur , school cathol charact . atop main build 's gold dome golden statu virgin mari . immedi front main build face , copper statu christ arm uprais legend ` ` venit ad omn ` ` . next main build basilica sacr heart . immedi behind basilica grotto , marian place prayer reflect . replica grotto lourd , franc virgin mari reputedli appear saint bernadett soubir 1858 . end main drive ( direct line connect 3 statu gold dome ) , simpl , modern stone statu mari .\n",
      "\n",
      "===========================\n",
      "\n",
      "Original Text: As at most other universities, Notre Dame's students run a number of news media outlets. The nine student-run outlets include three newspapers, both a radio and television station, and several magazines and journals. Begun as a one-page journal in September 1876, the Scholastic magazine is issued twice monthly and claims to be the oldest continuous collegiate publication in the United States. The other magazine, The Juggler, is released twice a year and focuses on student literature and artwork. The Dome yearbook is published annually. The newspapers have varying publication interests, with The Observer published daily and mainly reporting university and other news, and staffed by students from both Notre Dame and Saint Mary's College. Unlike Scholastic and The Dome, The Observer is an independent publication and does not have a faculty advisor or any editorial oversight from the University. In 1987, when some students believed that The Observer began to show a conservative bias, a liberal newspaper, Common Sense was published. Likewise, in 2003, when other students believed that the paper showed a liberal bias, the conservative paper Irish Rover went into production. Neither paper is published as often as The Observer; however, all three are distributed to all students. Finally, in Spring 2008 an undergraduate journal for political science research, Beyond Politics, made its debut.\n",
      "Language Detected: en\n",
      "\n",
      "Normalized Text: as at most other universities , notre dame 's students run a number of news media outlets . the nine student-run outlets include three newspapers , both a radio and television station , and several magazines and journals . begun as a one-page journal in september 1876 , the scholastic magazine is issued twice monthly and claims to be the oldest continuous collegiate publication in the united states . the other magazine , the juggler , is released twice a year and focuses on student literature and artwork . the dome yearbook is published annually . the newspapers have varying publication interests , with the observer published daily and mainly reporting university and other news , and staffed by students from both notre dame and saint mary 's college . unlike scholastic and the dome , the observer is an independent publication and does not have a faculty advisor or any editorial oversight from the university . in 1987 , when some students believed that the observer began to show a conservative bias , a liberal newspaper , common sense was published . likewise , in 2003 , when other students believed that the paper showed a liberal bias , the conservative paper irish rover went into production . neither paper is published as often as the observer ; however , all three are distributed to all students . finally , in spring 2008 an undergraduate journal for political science research , beyond politics , made its debut .\n",
      "\n",
      "Text after Stopword Removal: universities , notre dame 's students run number news media outlets . nine student-run outlets include three newspapers , radio television station , several magazines journals . begun one-page journal september 1876 , scholastic magazine issued twice monthly claims oldest continuous collegiate publication united states . magazine , juggler , released twice year focuses student literature artwork . dome yearbook published annually . newspapers varying publication interests , observer published daily mainly reporting university news , staffed students notre dame saint mary 's college . unlike scholastic dome , observer independent publication faculty advisor editorial oversight university . 1987 , students believed observer began show conservative bias , liberal newspaper , common sense published . likewise , 2003 , students believed paper showed liberal bias , conservative paper irish rover went production . neither paper published often observer ; however , three distributed students . finally , spring 2008 undergraduate journal political science research , beyond politics , made debut .\n",
      "\n",
      "Text after Stemming: univers , notr dame 's student run number news media outlet . nine student-run outlet includ three newspap , radio televis station , sever magazin journal . begun one-pag journal septemb 1876 , scholast magazin issu twice monthli claim oldest continu collegi public unit state . magazin , juggler , releas twice year focus student literatur artwork . dome yearbook publish annual . newspap vari public interest , observ publish daili mainli report univers news , staf student notr dame saint mari 's colleg . unlik scholast dome , observ independ public faculti advisor editori oversight univers . 1987 , student believ observ began show conserv bia , liber newspap , common sens publish . likewis , 2003 , student believ paper show liber bia , conserv paper irish rover went product . neither paper publish often observ ; howev , three distribut student . final , spring 2008 undergradu journal polit scienc research , beyond polit , made debut .\n",
      "\n",
      "Text after Lemmatization: univer , notr dame 's student run number news medium outlet . nine student - run outlet includ three newspap , radio televis station , sever magazin journal . begin one - pag journal septemb 1876 , scholast magazin issu twice monthli claim old continu collegi public unit state . magazin , juggler , relea twice year focus student literatur artwork . dome yearbook publish annual . newspap vari public interest , observ publish daili mainli report univer news , staf student notr dame saint mari 's colleg . unlik scholast dome , observ independ public faculti advisor editori oversight univer . 1987 , student believ observ begin show conserv bia , liber newspap , common sen publish . likewis , 2003 , student believ paper show liber bia , conserv paper irish rover go product . neither paper publish often observ ; howev , three distribut student . final , spring 2008 undergradu journal polit scienc research , beyond polit , make debut .\n",
      "\n",
      "===========================\n",
      "\n",
      "Original Text: The university is the major seat of the Congregation of Holy Cross (albeit not its official headquarters, which are in Rome). Its main seminary, Moreau Seminary, is located on the campus across St. Joseph lake from the Main Building. Old College, the oldest building on campus and located near the shore of St. Mary lake, houses undergraduate seminarians. Retired priests and brothers reside in Fatima House (a former retreat center), Holy Cross House, as well as Columba Hall near the Grotto. The university through the Moreau Seminary has ties to theologian Frederick Buechner. While not Catholic, Buechner has praised writers from Notre Dame and Moreau Seminary created a Buechner Prize for Preaching.\n",
      "Language Detected: en\n",
      "\n",
      "Normalized Text: the university is the major seat of the congregation of holy cross ( albeit not its official headquarters , which are in rome ) . its main seminary , moreau seminary , is located on the campus across st. joseph lake from the main building . old college , the oldest building on campus and located near the shore of st. mary lake , houses undergraduate seminarians . retired priests and brothers reside in fatima house ( a former retreat center ) , holy cross house , as well as columba hall near the grotto . the university through the moreau seminary has ties to theologian frederick buechner . while not catholic , buechner has praised writers from notre dame and moreau seminary created a buechner prize for preaching .\n",
      "\n",
      "Text after Stopword Removal: university major seat congregation holy cross ( albeit official headquarters , rome ) . main seminary , moreau seminary , located campus across st. joseph lake main building . old college , oldest building campus located near shore st. mary lake , houses undergraduate seminarians . retired priests brothers reside fatima house ( former retreat center ) , holy cross house , well columba hall near grotto . university moreau seminary ties theologian frederick buechner . catholic , buechner praised writers notre dame moreau seminary created buechner prize preaching .\n",
      "\n",
      "Text after Stemming: univers major seat congreg holi cross ( albeit offici headquart , rome ) . main seminari , moreau seminari , locat campu across st. joseph lake main build . old colleg , oldest build campu locat near shore st. mari lake , hous undergradu seminarian . retir priest brother resid fatima hous ( former retreat center ) , holi cross hous , well columba hall near grotto . univers moreau seminari tie theologian frederick buechner . cathol , buechner prais writer notr dame moreau seminari creat buechner prize preach .\n",
      "\n",
      "Text after Lemmatization: univer major seat congreg holi cross ( albeit offici headquart , rome ) . main seminari , moreau seminari , locat campu across st . joseph lake main build . old colleg , old build campu locat near shore st . mari lake , hous undergradu seminarian . retir priest brother resid fatima hous ( former retreat center ) , holi cross hous , well columba hall near grotto . univer moreau seminari tie theologian frederick buechner . cathol , buechner prais writer notr dame moreau seminari creat buechner prize preach .\n",
      "\n",
      "===========================\n",
      "\n"
     ]
    }
   ],
   "source": [
    "# language processing\n",
    "ps = PorterStemmer()\n",
    "\n",
    "def detect_language(text):\n",
    "    return detect(text)\n",
    "\n",
    "def normalize(text):\n",
    "    return ' '.join(word_tokenize(text.lower()))\n",
    "\n",
    "def remove_stopwords(text):\n",
    "    words = word_tokenize(text)\n",
    "    return ' '.join([word for word in words if word not in stopwords.words('english')])\n",
    "\n",
    "def stem_text(text):\n",
    "    words = word_tokenize(text)\n",
    "    return ' '.join([ps.stem(word) for word in words])\n",
    "\n",
    "def lemmatize_text(text):\n",
    "    doc = nlp(text)\n",
    "    return ' '.join([token.lemma_ for token in doc])\n",
    "\n",
    "# Demonstration for the first 3 contexts in the dataset\n",
    "for entry in all_data[:3]:\n",
    "    context = entry['context']\n",
    "    \n",
    "    print(\"Original Text:\", context)\n",
    "    print(\"Language Detected:\", detect_language(context))\n",
    "    context = normalize(context)\n",
    "    print(\"\\nNormalized Text:\", context)\n",
    "    context = remove_stopwords(context)\n",
    "    print(\"\\nText after Stopword Removal:\", context)\n",
    "    context = stem_text(context)\n",
    "    print(\"\\nText after Stemming:\", context)\n",
    "    context = lemmatize_text(context)\n",
    "    print(\"\\nText after Lemmatization:\", context)\n",
    "    print(\"\\n===========================\\n\")"
   ]
  },
  {
   "cell_type": "markdown",
   "id": "08828b41-c5ea-4ce1-8206-865212427a57",
   "metadata": {},
   "source": [
    "## Save the dataframe to CSV"
   ]
  },
  {
   "cell_type": "code",
   "execution_count": 10,
   "id": "4a5fa751-21ea-4560-b1aa-6b03eefd1a7d",
   "metadata": {
    "tags": []
   },
   "outputs": [],
   "source": [
    "# # Flatten the data for the dataframe\n",
    "# flattened_data = []\n",
    "# for entry in all_data:\n",
    "#     context = entry['context']\n",
    "#     for q, a in entry['qa_pairs']:\n",
    "#         flattened_data.append({'context': context, 'question': q, 'answer': a})\n",
    "\n",
    "# # Convert the flattened data to a dataframe\n",
    "# df_processed = pd.DataFrame(flattened_data)\n",
    "\n",
    "# # Save the dataframe to CSV\n",
    "# df_processed.to_csv('processed_data.csv', index=False)"
   ]
  },
  {
   "cell_type": "markdown",
   "id": "7312e259-d660-462a-8b87-86db5afd4b41",
   "metadata": {},
   "source": [
    "## Working with the processed data"
   ]
  },
  {
   "cell_type": "code",
   "execution_count": 11,
   "id": "ffbe0a60-8a9f-4cfb-9ed4-ebd51c67bbcb",
   "metadata": {
    "tags": []
   },
   "outputs": [
    {
     "name": "stdout",
     "output_type": "stream",
     "text": [
      "                                             context  \\\n",
      "0  Architecturally, the school has a Catholic cha...   \n",
      "1  Architecturally, the school has a Catholic cha...   \n",
      "2  Architecturally, the school has a Catholic cha...   \n",
      "3  Architecturally, the school has a Catholic cha...   \n",
      "4  Architecturally, the school has a Catholic cha...   \n",
      "\n",
      "                                            question  \\\n",
      "0  To whom did the Virgin Mary allegedly appear i...   \n",
      "1  What is in front of the Notre Dame Main Building?   \n",
      "2  The Basilica of the Sacred heart at Notre Dame...   \n",
      "3                  What is the Grotto at Notre Dame?   \n",
      "4  What sits on top of the Main Building at Notre...   \n",
      "\n",
      "                                    answer  \n",
      "0               Saint Bernadette Soubirous  \n",
      "1                a copper statue of Christ  \n",
      "2                        the Main Building  \n",
      "3  a Marian place of prayer and reflection  \n",
      "4       a golden statue of the Virgin Mary  \n"
     ]
    }
   ],
   "source": [
    "# Load the data (df_processed)\n",
    "df_processed = pd.read_csv('processed_data.csv')\n",
    "\n",
    "# Display the first few rows to verify the data has been loaded correctly\n",
    "print(df_processed.head())"
   ]
  },
  {
   "cell_type": "code",
   "execution_count": 12,
   "id": "c07e0ad9-a4f3-4499-bac5-860ac9cd6b06",
   "metadata": {
    "tags": []
   },
   "outputs": [],
   "source": [
    "# Renaming DataFrame\n",
    "dfp = df_processed"
   ]
  },
  {
   "cell_type": "code",
   "execution_count": 13,
   "id": "11b880d0-0961-4d16-8438-c52a46c2f9e7",
   "metadata": {
    "tags": []
   },
   "outputs": [
    {
     "name": "stdout",
     "output_type": "stream",
     "text": [
      "<class 'pandas.core.frame.DataFrame'>\n",
      "Index(['context', 'question', 'answer'], dtype='object')\n",
      "(87599, 3)\n"
     ]
    }
   ],
   "source": [
    "# Getting Info of Data:\n",
    "print(type(dfp))\n",
    "print(dfp.keys())\n",
    "print(dfp.shape)"
   ]
  },
  {
   "cell_type": "code",
   "execution_count": 14,
   "id": "3e293a62-bcf0-46fc-84de-acffb6ff90a5",
   "metadata": {
    "tags": []
   },
   "outputs": [
    {
     "name": "stdout",
     "output_type": "stream",
     "text": [
      "<bound method NDFrame.head of                                                  context  \\\n",
      "0      Architecturally, the school has a Catholic cha...   \n",
      "1      Architecturally, the school has a Catholic cha...   \n",
      "2      Architecturally, the school has a Catholic cha...   \n",
      "3      Architecturally, the school has a Catholic cha...   \n",
      "4      Architecturally, the school has a Catholic cha...   \n",
      "...                                                  ...   \n",
      "87594  Kathmandu Metropolitan City (KMC), in order to...   \n",
      "87595  Kathmandu Metropolitan City (KMC), in order to...   \n",
      "87596  Kathmandu Metropolitan City (KMC), in order to...   \n",
      "87597  Kathmandu Metropolitan City (KMC), in order to...   \n",
      "87598  Kathmandu Metropolitan City (KMC), in order to...   \n",
      "\n",
      "                                                question  \\\n",
      "0      To whom did the Virgin Mary allegedly appear i...   \n",
      "1      What is in front of the Notre Dame Main Building?   \n",
      "2      The Basilica of the Sacred heart at Notre Dame...   \n",
      "3                      What is the Grotto at Notre Dame?   \n",
      "4      What sits on top of the Main Building at Notre...   \n",
      "...                                                  ...   \n",
      "87594  In what US state did Kathmandu first establish...   \n",
      "87595               What was Yangon previously known as?   \n",
      "87596  With what Belorussian city does Kathmandu have...   \n",
      "87597  In what year did Kathmandu create its initial ...   \n",
      "87598                      What is KMC an initialism of?   \n",
      "\n",
      "                                        answer  \n",
      "0                   Saint Bernadette Soubirous  \n",
      "1                    a copper statue of Christ  \n",
      "2                            the Main Building  \n",
      "3      a Marian place of prayer and reflection  \n",
      "4           a golden statue of the Virgin Mary  \n",
      "...                                        ...  \n",
      "87594                                   Oregon  \n",
      "87595                                  Rangoon  \n",
      "87596                                    Minsk  \n",
      "87597                                     1975  \n",
      "87598              Kathmandu Metropolitan City  \n",
      "\n",
      "[87599 rows x 3 columns]>\n"
     ]
    }
   ],
   "source": [
    "print(dfp.head)"
   ]
  },
  {
   "cell_type": "code",
   "execution_count": 15,
   "id": "9b23ac45-d346-438a-8346-78a7f20c0567",
   "metadata": {
    "tags": []
   },
   "outputs": [
    {
     "name": "stdout",
     "output_type": "stream",
     "text": [
      "<class 'pandas.core.frame.DataFrame'>\n",
      "RangeIndex: 87599 entries, 0 to 87598\n",
      "Data columns (total 3 columns):\n",
      " #   Column    Non-Null Count  Dtype \n",
      "---  ------    --------------  ----- \n",
      " 0   context   87599 non-null  object\n",
      " 1   question  87599 non-null  object\n",
      " 2   answer    87585 non-null  object\n",
      "dtypes: object(3)\n",
      "memory usage: 2.0+ MB\n",
      "None\n"
     ]
    }
   ],
   "source": [
    "print(dfp.info())"
   ]
  },
  {
   "cell_type": "code",
   "execution_count": 16,
   "id": "305da5a2-8c78-4e5b-97ec-51cf380c647c",
   "metadata": {
    "tags": []
   },
   "outputs": [
    {
     "name": "stdout",
     "output_type": "stream",
     "text": [
      "                                                  context  \\\n",
      "count                                               87599   \n",
      "unique                                              18891   \n",
      "top     In 1853, Victoria gave birth to her eighth chi...   \n",
      "freq                                                   25   \n",
      "\n",
      "                                                 question answer  \n",
      "count                                               87599  87585  \n",
      "unique                                              87334  64652  \n",
      "top     I couldn t could up with another question. But...  three  \n",
      "freq                                                    6    233  \n"
     ]
    }
   ],
   "source": [
    "# Descriptive statistics summary\n",
    "print(dfp.describe())"
   ]
  },
  {
   "cell_type": "code",
   "execution_count": 17,
   "id": "c06a281e-123b-4465-a7b8-dffa66d85940",
   "metadata": {
    "tags": []
   },
   "outputs": [
    {
     "name": "stdout",
     "output_type": "stream",
     "text": [
      "                                                 context language\n",
      "81143  A major international priority for Tuvalu in t...       en\n",
      "2626   iPods with color displays use anti-aliased gra...       en\n",
      "9721   The economy is a mixture of village agricultur...       en\n",
      "66569  Most common glass contains other ingredients t...       en\n",
      "740    The feminism and female empowerment themes on ...       en\n",
      "32358  Service trials demonstrated another problem ho...       en\n",
      "64314  Logically, no number of positive outcomes at t...       en\n",
      "63091  There were no anamorphic LaserDisc titles avai...       en\n",
      "69469  In his Science of Logic (1812–1814) Hegel argu...       en\n",
      "11716  Because of its coastal location, the economy o...       en\n"
     ]
    }
   ],
   "source": [
    "# sample size language detecting\n",
    "sample = dfp.sample(10)\n",
    "sample['language'] = sample['context'].apply(detect_language)\n",
    "print(sample[['context', 'language']])\n"
   ]
  },
  {
   "cell_type": "code",
   "execution_count": 18,
   "id": "5e52eb3e-7c61-4e4f-be81-807f6269fd90",
   "metadata": {},
   "outputs": [
    {
     "name": "stdout",
     "output_type": "stream",
     "text": [
      "en    87599\n",
      "Name: language, dtype: int64\n"
     ]
    }
   ],
   "source": [
    "# Ensuring deterministic results\n",
    "DetectorFactory.seed = 0\n",
    "\n",
    "def detect_language(text):\n",
    "    try:\n",
    "        return detect(str(text))\n",
    "    except Exception as e:\n",
    "        print(f\"Error with text: {text}. Error: {e}\")\n",
    "        return \"Unable to detect\"\n",
    "\n",
    "# Ensure there are no missing values in the 'context' column\n",
    "dfp['context'].fillna(\"\", inplace=True)\n",
    "\n",
    "# Apply language detection\n",
    "dfp['language'] = dfp['context'].apply(detect_language)\n",
    "print(dfp['language'].value_counts())"
   ]
  },
  {
   "cell_type": "code",
   "execution_count": 20,
   "id": "465716e8-7304-44a4-9aef-6f134d0666c5",
   "metadata": {},
   "outputs": [],
   "source": [
    "DetectorFactory.seed = 0\n",
    "\n",
    "def detect_language(text):\n",
    "    try:\n",
    "        return detect(str(text))\n",
    "    except Exception as e:\n",
    "        return \"Unable to detect\""
   ]
  },
  {
   "cell_type": "code",
   "execution_count": 21,
   "id": "d1344391-a855-4a02-ab03-3d286de84d7a",
   "metadata": {
    "tags": []
   },
   "outputs": [
    {
     "name": "stdout",
     "output_type": "stream",
     "text": [
      "52941    en\n",
      "19469    en\n",
      "80549    en\n",
      "33346    en\n",
      "82847    en\n",
      "         ..\n",
      "41253    en\n",
      "84097    en\n",
      "17556    en\n",
      "6083     en\n",
      "84491    en\n",
      "Name: detect_context, Length: 100, dtype: object\n"
     ]
    }
   ],
   "source": [
    "# sample data to process language detecting\n",
    "sample = dfp.sample(100)\n",
    "sample[f'detect_context'] = sample['context'].apply(detect_language)\n",
    "print(sample['detect_context'])"
   ]
  },
  {
   "cell_type": "code",
   "execution_count": 22,
   "id": "d1eb25fa-7503-473d-a261-5e2403b8d63d",
   "metadata": {},
   "outputs": [],
   "source": [
    "# detecting languages\n",
    "columns_to_detect = ['context', 'question', 'answer']\n",
    "\n",
    "for col in columns_to_detect:\n",
    "    dfp[f'detect_{col}'] = dfp[col].apply(detect_language)"
   ]
  },
  {
   "cell_type": "code",
   "execution_count": 23,
   "id": "58a09d00-2d50-42c5-960d-8d9d7db52aef",
   "metadata": {
    "tags": []
   },
   "outputs": [
    {
     "name": "stdout",
     "output_type": "stream",
     "text": [
      "Unique languages detected: {'af', 'en', 'it', 'sv', 'nl', 'de', 'es', 'lt', 'cs', 'hr', 'Unable to detect', 'fr', 'no', 'ca', 'pl', 'pt', 'tr', 'lv', 'et', 'sl', 'da', 'so', 'sw', 'vi', 'hu', 'ro', 'sq', 'fi', 'tl', 'sk', 'cy', 'id'}\n"
     ]
    }
   ],
   "source": [
    "detected_lang_columns = [f'detect_{col}' for col in columns_to_detect]\n",
    "unique_languages = set()\n",
    "\n",
    "for col in detected_lang_columns:\n",
    "    unique_languages = unique_languages.union(set(dfp[col].unique()))\n",
    "\n",
    "print(\"Unique languages detected:\", unique_languages)"
   ]
  },
  {
   "cell_type": "code",
   "execution_count": 24,
   "id": "7ffe710e-8050-4590-994a-e4f07fd06a9f",
   "metadata": {
    "tags": []
   },
   "outputs": [
    {
     "name": "stdout",
     "output_type": "stream",
     "text": [
      "en    87599\n",
      "Name: language, dtype: int64\n"
     ]
    }
   ],
   "source": [
    "language_counts = df_processed['language'].value_counts()\n",
    "print(language_counts)"
   ]
  },
  {
   "cell_type": "code",
   "execution_count": 26,
   "id": "1bc9a05d-3b22-4eb0-b11d-b9719856c842",
   "metadata": {
    "tags": []
   },
   "outputs": [],
   "source": [
    "# # Convert the entire column to string\n",
    "# dfp['context'] = dfp['context'].astype(str)\n",
    "# dfp['question'] = dfp['question'].astype(str)\n",
    "# dfp['answer'] = dfp['answer'].astype(str)\n",
    "\n",
    "# # Handle NaNs by replacing them with a placeholder (if any still remain after the type conversion)\n",
    "# dfp['context'].fillna('missing', inplace=True)\n",
    "# dfp['question'].fillna('missing', inplace=True)\n",
    "# dfp['answer'].fillna('missing', inplace=True)\n",
    "\n",
    "# # Now you apply the preprocess_text function\n",
    "# dfp['processed_context'] = dfp['context'].apply(preprocess_text)\n",
    "# dfp['processed_question'] = dfp['question'].apply(preprocess_text)\n",
    "# dfp['processed_answer'] = dfp['answer'].apply(preprocess_text)"
   ]
  },
  {
   "cell_type": "code",
   "execution_count": 27,
   "id": "b6ea603e-55d4-462c-ba1f-e22704e54cb5",
   "metadata": {
    "tags": []
   },
   "outputs": [],
   "source": [
    "# !pip install spacy word2number"
   ]
  },
  {
   "cell_type": "code",
   "execution_count": 28,
   "id": "d5d10c73-8537-4be2-a344-f6a51b5dcf48",
   "metadata": {
    "tags": []
   },
   "outputs": [],
   "source": [
    "# Create a function to convert words to numbers\n",
    "def words_to_numbers(text):\n",
    "    try:\n",
    "        return str(w2n.word_to_num(text))\n",
    "    except:\n",
    "        return text\n",
    "\n",
    "def preprocess_text(text):\n",
    "    # Convert to lowercase\n",
    "    text = text.lower()\n",
    "    \n",
    "    # Convert words to numbers\n",
    "    text = words_to_numbers(text)\n",
    "    \n",
    "    # Tokenization, Lemmatization, Removing Stopwords, and Punctuations\n",
    "    doc = nlp(text)\n",
    "    tokens = [\n",
    "        token.lemma_ for token in doc \n",
    "        if not token.is_stop \n",
    "        and not token.is_punct\n",
    "    ]\n",
    "    \n",
    "    return \" \".join(tokens)\n",
    "\n",
    "# Apply the function to each column\n",
    "dfp['processed_context'] = dfp['context'].astype(str).apply(preprocess_text)\n",
    "dfp['processed_question'] = dfp['question'].astype(str).apply(preprocess_text)\n",
    "dfp['processed_answer'] = dfp['answer'].astype(str).apply(preprocess_text)\n",
    "\n",
    "\n",
    "sample = dfp.sample(10)  # get a random sample of 10 rows\n",
    "sample['processed_context'] = sample['context'].apply(preprocess_text)\n",
    "print(sample['processed_context'])"
   ]
  },
  {
   "cell_type": "code",
   "execution_count": 29,
   "id": "f6f41b18-3af9-4e81-99e2-652058b513e7",
   "metadata": {
    "tags": []
   },
   "outputs": [],
   "source": [
    "# Function to remove IPA symbols from tokens\n",
    "def remove_ipa(tokens):\n",
    "    # Regular expression to match common IPA symbols   * \"International Phonetic Alphabet.\"\n",
    "    ipa_pattern = re.compile(r'[ɒˈæʃθʊʌɑː]')\n",
    "    return [token for token in tokens if not ipa_pattern.search(token)]\n",
    "\n",
    "# Create a function to convert words to numbers\n",
    "def words_to_numbers(text):\n",
    "    try:\n",
    "        return str(w2n.word_to_num(text))\n",
    "    except:\n",
    "        return text\n",
    "\n",
    "def preprocess_text(text):\n",
    "    # Convert to lowercase\n",
    "    text = text.lower()\n",
    "    \n",
    "    # Convert words to numbers\n",
    "    text = words_to_numbers(text)\n",
    "    \n",
    "    # Tokenization, Lemmatization, Removing Stopwords, and Punctuations\n",
    "    doc = nlp(text)\n",
    "    tokens = [\n",
    "        token.lemma_ for token in doc \n",
    "        if not token.is_stop \n",
    "        and not token.is_punct\n",
    "    ]\n",
    "    \n",
    "    # Remove IPA symbols from the tokens\n",
    "    tokens = remove_ipa(tokens)\n",
    "    \n",
    "    return \" \".join(tokens)\n",
    "\n",
    "# Apply the function to each column\n",
    "dfp['processed_context'] = dfp['context'].astype(str).apply(preprocess_text)\n",
    "dfp['processed_question'] = dfp['question'].astype(str).apply(preprocess_text)\n",
    "dfp['processed_answer'] = dfp['answer'].astype(str).apply(preprocess_text)\n"
   ]
  },
  {
   "cell_type": "code",
   "execution_count": 30,
   "id": "51670dd7-a195-45f1-93af-a87c79769992",
   "metadata": {
    "tags": []
   },
   "outputs": [
    {
     "name": "stdout",
     "output_type": "stream",
     "text": [
      "                                                 context  \\\n",
      "49808  When the alloy cools and solidifies (crystalli...   \n",
      "39177  The Allies offered peace terms in the Frankfur...   \n",
      "76242  Paraplegia, the loss of sensation and voluntar...   \n",
      "24316  The Times is the first newspaper to have borne...   \n",
      "27652  In the 16th century, Count Hieronymus Schlick ...   \n",
      "79134  In 2005 two city council members, Ralph Inzunz...   \n",
      "22155  Following the fall of Wu and the turmoil of th...   \n",
      "64649  The life cycles of insects vary but most hatch...   \n",
      "62414  Royal assent is the method by which a country'...   \n",
      "55336  In 1469, following the Treaty of St. Omer, Upp...   \n",
      "\n",
      "                                       processed_context  \n",
      "49808                                                  1  \n",
      "39177  ally offer peace term frankfurt proposal novem...  \n",
      "76242                                                 15  \n",
      "24316  time newspaper bear lend numerous paper world ...  \n",
      "27652  16th century count hieronymus schlick bohemia ...  \n",
      "79134                                                 25  \n",
      "22155                                                  3  \n",
      "64649  life cycle insect vary hatch egg insect growth...  \n",
      "62414  royal assent method country constitutional mon...  \n",
      "55336  1469 follow treaty st omer upper alsace sell a...  \n"
     ]
    }
   ],
   "source": [
    "# Sample a subset of the data\n",
    "sample = dfp.sample(10)\n",
    "\n",
    "# Apply the preprocessing function to the sample\n",
    "sample['processed_context'] = sample['context'].astype(str).apply(preprocess_text)\n",
    "\n",
    "# Print the processed data to check the output\n",
    "print(sample[['context', 'processed_context']])"
   ]
  },
  {
   "cell_type": "code",
   "execution_count": 32,
   "id": "6034e82f-5c92-48e6-b238-e5feaa261a76",
   "metadata": {
    "tags": []
   },
   "outputs": [
    {
     "name": "stdout",
     "output_type": "stream",
     "text": [
      "[('include', 12557), ('new', 11940), ('city', 11290), ('state', 10882), ('1', 9712), ('century', 9057), ('time', 8574), ('year', 8052), ('large', 7883), ('2', 7735)]\n"
     ]
    }
   ],
   "source": [
    "# Combine all the processed contexts into one long string\n",
    "all_words = ' '.join(dfp['processed_context'])\n",
    "\n",
    "# Split the string into individual words\n",
    "word_list = all_words.split()\n",
    "\n",
    "# Count the frequency of each word\n",
    "word_freq = Counter(word_list)\n",
    "\n",
    "# Display the most common words and their frequencies\n",
    "print(word_freq.most_common(10))"
   ]
  },
  {
   "cell_type": "code",
   "execution_count": 40,
   "id": "4a434520-f69e-48c1-b840-d2c5a70bd060",
   "metadata": {
    "tags": []
   },
   "outputs": [
    {
     "data": {
      "image/png": "[encoded data removed]",
      "text/plain": [
       "<Figure size 500x500 with 1 Axes>"
      ]
     },
     "metadata": {},
     "output_type": "display_data"
    }
   ],
   "source": [
    "# Get the 10 most common words and their frequencies\n",
    "common_words = word_freq.most_common(10)\n",
    "\n",
    "# Separate words and their counts into two lists\n",
    "words, counts = zip(*common_words)\n",
    "colors = plt.cm.YlOrRd(np.linspace(0.3, 1, 10))[::-1]  # 'YlOrRd' provides a heatmap-like effect\n",
    "\n",
    "# Create the pie chart\n",
    "plt.figure(figsize=(5, 5))\n",
    "plt.pie(counts, labels=words, autopct='%1.1f%%', startangle=140, colors=colors, shadow=True) # Shadow and heatmap-like color\n",
    "plt.title('Top 10 most common words in processed_context')\n",
    "plt.show()"
   ]
  },
  {
   "cell_type": "markdown",
   "id": "953316ff-de73-491a-b42e-b29cf7d208d5",
   "metadata": {},
   "source": [
    "## Retrieval-based Chatbot using TF-IDF and Cosine Similarity:\n",
    "\n",
    "**1. Data Preparation:**\n",
    "We'll concatenate questions and answers into one list. This will help us in finding the closest match to user input.\n",
    "\n",
    "**2. TF-IDF Vectorization:**\n",
    "We'll convert our text data into a matrix of TF-IDF features.\n",
    "\n",
    "**3. Response Retrieval:**\n",
    "Given a user input, we'll find the closest match in our dataset using cosine similarity and return the corresponding answer."
   ]
  },
  {
   "cell_type": "code",
   "execution_count": 51,
   "id": "c8481c73-ed15-44fa-81a0-9fc9ea975b9e",
   "metadata": {
    "tags": []
   },
   "outputs": [],
   "source": [
    "# loading libraries\n",
    "\n",
    "from keras.models import Model\n",
    "from keras.layers import Input, LSTM, Dense\n",
    "from keras.preprocessing.text import Tokenizer\n",
    "from keras.preprocessing.sequence import pad_sequences\n",
    "from sklearn.metrics.pairwise import cosine_similarity\n",
    "from keras.layers import Embedding, LSTM, Dense, Input\n",
    "from sklearn.feature_extraction.text import TfidfVectorizer\n"
   ]
  },
  {
   "cell_type": "code",
   "execution_count": 52,
   "id": "b9b52d32-6efd-4655-983f-98c95d4f2bee",
   "metadata": {
    "tags": []
   },
   "outputs": [
    {
     "name": "stdout",
     "output_type": "stream",
     "text": [
      "Epoch 1/10\n",
      "1095/1095 [==============================] - 2496s 2s/step - loss: 0.7396 - val_loss: 0.6854\n",
      "Epoch 2/10\n",
      "1095/1095 [==============================] - 2505s 2s/step - loss: 0.5342 - val_loss: 0.6723\n",
      "Epoch 3/10\n",
      "1095/1095 [==============================] - 2492s 2s/step - loss: 0.5095 - val_loss: 0.6625\n",
      "Epoch 4/10\n",
      "1095/1095 [==============================] - 2487s 2s/step - loss: 0.4849 - val_loss: 0.6631\n",
      "Epoch 5/10\n",
      "1095/1095 [==============================] - 4344s 4s/step - loss: 0.4586 - val_loss: 0.6660\n",
      "Epoch 6/10\n",
      "1095/1095 [==============================] - 41379s 38s/step - loss: 0.4323 - val_loss: 0.6717\n",
      "Epoch 7/10\n",
      "1095/1095 [==============================] - 2113s 2s/step - loss: 0.4060 - val_loss: 0.6827\n",
      "Epoch 8/10\n",
      "1095/1095 [==============================] - 4432s 4s/step - loss: 0.3802 - val_loss: 0.6979\n",
      "Epoch 9/10\n",
      "1095/1095 [==============================] - 2384s 2s/step - loss: 0.3542 - val_loss: 0.7164\n",
      "Epoch 10/10\n",
      "1095/1095 [==============================] - 3361s 3s/step - loss: 0.3282 - val_loss: 0.7379\n"
     ]
    },
    {
     "data": {
      "text/plain": [
       "<keras.src.callbacks.History at 0x7fb659719750>"
      ]
     },
     "execution_count": 52,
     "metadata": {},
     "output_type": "execute_result"
    }
   ],
   "source": [
    "\n",
    "# 1. Tokenization\n",
    "MAX_NUM_WORDS = 20000  # Maximum number of words to keep based on word frequency\n",
    "tokenizer = Tokenizer(num_words=MAX_NUM_WORDS)\n",
    "\n",
    "# Fit the tokenizer on questions + answers\n",
    "tokenizer.fit_on_texts(list(dfp['processed_context']) + list(dfp['processed_answer']))\n",
    "\n",
    "# Convert text to sequences\n",
    "encoder_input_data = tokenizer.texts_to_sequences(dfp['processed_context'])\n",
    "decoder_input_data = tokenizer.texts_to_sequences(dfp['processed_answer'])\n",
    "\n",
    "# 2. Calculate the number of unique tokens + padding for consistent sequence length\n",
    "num_encoder_tokens = len(tokenizer.word_index) + 1  # +1 for padding\n",
    "num_decoder_tokens = len(tokenizer.word_index) + 1  # +1 for padding\n",
    "\n",
    "max_encoder_seq_length = max([len(txt) for txt in encoder_input_data])\n",
    "max_decoder_seq_length = max([len(txt) for txt in decoder_input_data])\n",
    "\n",
    "encoder_input_data = pad_sequences(encoder_input_data, maxlen=max_encoder_seq_length, padding='post')\n",
    "decoder_input_data = pad_sequences(decoder_input_data, maxlen=max_decoder_seq_length, padding='post')\n",
    "\n",
    "# We also need decoder target data for training which is one timestep ahead\n",
    "decoder_target_data = np.zeros_like(decoder_input_data)\n",
    "decoder_target_data[:, :-1] = decoder_input_data[:, 1:]\n",
    "decoder_target_data = np.expand_dims(decoder_target_data, -1)\n",
    "\n",
    "# 3. Define the encoder-decoder architecture\n",
    "latent_dim = 256  # Latent dimensionality of encoding space\n",
    "\n",
    "# Encoder\n",
    "encoder_inputs = Input(shape=(None,))\n",
    "encoder_embedding = Embedding(num_encoder_tokens, latent_dim)(encoder_inputs)\n",
    "encoder = LSTM(latent_dim, return_state=True)\n",
    "encoder_outputs, state_h, state_c = encoder(encoder_embedding)\n",
    "encoder_states = [state_h, state_c]\n",
    "\n",
    "# Decoder\n",
    "decoder_inputs = Input(shape=(None,))\n",
    "decoder_embedding_layer = Embedding(num_decoder_tokens, latent_dim)\n",
    "decoder_embedding = decoder_embedding_layer(decoder_inputs)\n",
    "\n",
    "decoder_lstm = LSTM(latent_dim, return_sequences=True, return_state=True)\n",
    "decoder_outputs, _, _ = decoder_lstm(decoder_embedding, initial_state=encoder_states)\n",
    "decoder_dense = Dense(num_decoder_tokens, activation='softmax')\n",
    "decoder_outputs = decoder_dense(decoder_outputs)\n",
    "\n",
    "# Model\n",
    "model = Model([encoder_inputs, decoder_inputs], decoder_outputs)\n",
    "\n",
    "# 4. Train the model\n",
    "model.compile(optimizer='adam', loss='sparse_categorical_crossentropy')\n",
    "model.fit([encoder_input_data, decoder_input_data], decoder_target_data, batch_size=64, epochs=10, validation_split=0.2)\n"
   ]
  },
  {
   "cell_type": "code",
   "execution_count": null,
   "id": "92d206a0-4612-4a95-bdf0-cc901e8d24f2",
   "metadata": {},
   "outputs": [],
   "source": []
  },
  {
   "cell_type": "code",
   "execution_count": null,
   "id": "9ac23d1e-dc59-40c4-a6eb-4e9bbd1b019c",
   "metadata": {},
   "outputs": [],
   "source": []
  }
 ],
 "metadata": {
  "kernelspec": {
   "display_name": "Python 3 (ipykernel)",
   "language": "python",
   "name": "python3"
  },
  "language_info": {
   "codemirror_mode": {
    "name": "ipython",
    "version": 3
   },
   "file_extension": ".py",
   "mimetype": "text/x-python",
   "name": "python",
   "nbconvert_exporter": "python",
   "pygments_lexer": "ipython3",
   "version": "3.10.11"
  }
 },
 "nbformat": 4,
 "nbformat_minor": 5
}
